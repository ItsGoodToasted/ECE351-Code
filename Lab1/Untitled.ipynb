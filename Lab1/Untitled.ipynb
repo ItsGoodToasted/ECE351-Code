{
 "cells": [
  {
   "cell_type": "code",
   "execution_count": 5,
   "id": "928aee5d-9aa8-4fec-ba03-2fbf3db5fec3",
   "metadata": {},
   "outputs": [
    {
     "name": "stdout",
     "output_type": "stream",
     "text": [
      "1\n",
      " t = 1\n",
      " t = 1  seconds \n",
      " t is now = 0.3333333333333333 '\\ n ... and can be rounded using ' round () ' 0.3333\n",
      " The best way to print is using f- strings such as: t = 0.33 s\n"
     ]
    },
    {
     "name": "stderr",
     "output_type": "stream",
     "text": [
      "<>:10: SyntaxWarning: invalid escape sequence '\\ '\n",
      "<>:10: SyntaxWarning: invalid escape sequence '\\ '\n",
      "C:\\Users\\nigel\\AppData\\Local\\Temp\\ipykernel_13464\\3049257179.py:10: SyntaxWarning: invalid escape sequence '\\ '\n",
      "  print (' t is now =', t/3 , \"'\\ n ... and can be rounded using ' round () '\", round ( t /3 ,4) )\n"
     ]
    }
   ],
   "source": [
    "import numpy\n",
    "import scipy.signal\n",
    "import time\n",
    "\n",
    "t=1\n",
    "\n",
    "print(t)\n",
    "print (\" t =\", t)\n",
    "print (' t =',t,\" seconds \")\n",
    "print (' t is now =', t/3 , \"'\\n...and can be rounded using 'round ()'\", round ( t /3 ,4) )\n",
    "print ( f\" The best way to print is using f- strings such as: t = { t / 3:0.2f} s\")"
   ]
  },
  {
   "cell_type": "code",
   "execution_count": null,
   "id": "3b48be07-d05b-441f-8f91-178ec64653f7",
   "metadata": {},
   "outputs": [],
   "source": []
  },
  {
   "cell_type": "code",
   "execution_count": null,
   "id": "b8b00782-ad05-4fe5-933a-041c229d6b1f",
   "metadata": {},
   "outputs": [],
   "source": []
  }
 ],
 "metadata": {
  "kernelspec": {
   "display_name": "Python [conda env:base] *",
   "language": "python",
   "name": "conda-base-py"
  },
  "language_info": {
   "codemirror_mode": {
    "name": "ipython",
    "version": 3
   },
   "file_extension": ".py",
   "mimetype": "text/x-python",
   "name": "python",
   "nbconvert_exporter": "python",
   "pygments_lexer": "ipython3",
   "version": "3.12.7"
  }
 },
 "nbformat": 4,
 "nbformat_minor": 5
}
