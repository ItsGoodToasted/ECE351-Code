{
 "cells": [
  {
   "cell_type": "markdown",
   "id": "f40fa663-b456-4772-bdb7-30f6e04d5738",
   "metadata": {},
   "source": [
    "<h1 style=\"text-align: center;\">Step and Impulse Response of a RLC Band Pass Filter</h1>\n",
    "<p style=\"text-align: center;\">Lab 5</p>\n",
    "<p style=\"text-align: center;\">Spring 2025</p>"
   ]
  },
  {
   "cell_type": "markdown",
   "id": "8bdb6e2d-1fcd-4b42-9bec-9efdb264729f",
   "metadata": {},
   "source": [
    "### 1. Purpose \n",
    "Use Laplace transforms to find the time-domain response of a RLC band pass filter to impulse and step inputs.  \n",
    "\n",
    "### 2. Deliverables Overview \n",
    "##### Part 1  \n",
    "[ ] Code for the impulse response as a function for **Task 1**.  \n",
    "[ ] Plot for the impulse response from **Prelab 5**.  \n",
    "[ ] Plot for the impulse response from **Task 2**\n",
    "  \n",
    "##### Part 2\n",
    "[ ] Code and plot for **Task 1**.  \n",
    "[ ] Hand calculated final value theorem in a markdown cell from **Task 2**.   \n",
    "\n",
    "### 3. Part 1\n",
    "##### 3.1 Purpose\n",
    "In this part of the lab, you will plot the impulse response of the circuit given in the prelab in two ways:  \n",
    "1. Using the hand-solved time-domain impulse response from the prelab, implemented as a function.  \n",
    "2. Using the **scipy.signal.impulse()** function with the s-domain transfer function from the prelab.  \n",
    "##### 3.2 Tasks   \n",
    "###### 3.2.1 Example code  \n",
    "The following code implements the Laplace domain transfer function $H(s) = \\frac{s + 2}{s^2 + 3s +8}$."
   ]
  },
  {
   "cell_type": "code",
   "execution_count": 2,
   "id": "9d1f4bba-e9bf-4ce0-b17b-931c5d4cd7bf",
   "metadata": {
    "tags": []
   },
   "outputs": [],
   "source": [
    "import scipy.signal as sig\n",
    "import numpy as np\n",
    "\n",
    "steps = 1e-5\n",
    "t = np.arange(0, 1.2e-3 + steps, steps)\n",
    "\n",
    "num = [1, 2] # creates the numerator s + 2\n",
    "den = [1, 3, 8] # creates the denominator s**2 + 3s + 8\n",
    "\n",
    "tout, yout = sig.impulse((num, den), T = t)"
   ]
  },
  {
   "cell_type": "markdown",
   "id": "7666626e-f20a-47fb-ada9-fb74d99f62c7",
   "metadata": {},
   "source": [
    "*Note: Both plots from this section should be identical.*  \n",
    "1. Plot the impulse response $h(t)$ that you found by hand in the prelab assignment from $0 \\le t \\le 1.2$ ms.  "
   ]
  },
  {
   "cell_type": "code",
   "execution_count": 3,
   "id": "833cdc3c-d0e4-449e-a75e-6611c3883209",
   "metadata": {
    "tags": []
   },
   "outputs": [],
   "source": [
    "# Insert all necessary imports here"
   ]
  },
  {
   "cell_type": "code",
   "execution_count": 11,
   "id": "20884c93-5663-4da5-8d5b-9a94167ea517",
   "metadata": {
    "tags": []
   },
   "outputs": [],
   "source": [
    "# Insert code for your step function and the Sine Method as a function here. I will write the definition line and description as a hint.\n",
    "def sine_method(R, L, C, t):\n",
    "    \"\"\"\n",
    "    Uses the sine method to find the impulse response of a given RLC filter,\n",
    "    \n",
    "    Inputs: R - Resistor value in Ohms\n",
    "            L - Inductor value in Henries\n",
    "            C - Capacitor value in Farads\n",
    "            t - time vector to determine the response\n",
    "            \n",
    "    Outputs: y - impulse response calculated using the Sine Method\n",
    "    \"\"\"\n",
    "    #Insert your code here\n",
    "    return y"
   ]
  },
  {
   "cell_type": "code",
   "execution_count": 7,
   "id": "219f5259-c17c-477b-ae8b-0f2da922664e",
   "metadata": {
    "tags": []
   },
   "outputs": [],
   "source": [
    "# Insert code calling your sine method function and plotting the impulse response here"
   ]
  },
  {
   "cell_type": "markdown",
   "id": "f9f3c1ec-14a3-48c7-9f68-27fc9f99c0a5",
   "metadata": {},
   "source": [
    "2. Use the **scipy.signal.impulse()** function to plot the results from $0 \\le t \\le 1.2$ ms. "
   ]
  },
  {
   "cell_type": "code",
   "execution_count": 9,
   "id": "e2d0c186-6ac3-4a23-8f01-83a1448fc71e",
   "metadata": {
    "tags": []
   },
   "outputs": [],
   "source": [
    "# Insert code using scipy.signal.impulse to find the impulse response here. This will be similar to the example code.\n",
    "# Also, insert code plotting this response here."
   ]
  },
  {
   "cell_type": "markdown",
   "id": "ba0b58c6-63b6-448b-a6c3-b0a1cdb012f9",
   "metadata": {},
   "source": [
    "### 4. Part 2\n",
    "##### 4.1 Purpose\n",
    "This section uses **scipy.signal.step()** function to plot the step response of the transfer function $H(s)$. Additionally, the final value theorem will be demonstrated.   \n",
    "##### 3.2 Tasks   \n",
    "1. Find the step response of $H(s)$ using the **scipy.signal.step()** function from $0 \\le t \\le 1.2$ ms."
   ]
  },
  {
   "cell_type": "code",
   "execution_count": 10,
   "id": "d1045f69-d898-4d2c-944b-a5b103421f0a",
   "metadata": {
    "tags": []
   },
   "outputs": [],
   "source": [
    "# Insert code using scipy.signal.step to find the step response here. \n",
    "# Also, insert code plotting this response here."
   ]
  },
  {
   "cell_type": "markdown",
   "id": "7a81ec94-2364-41a7-91dc-b03db3f2f671",
   "metadata": {},
   "source": [
    "2. Perform the final value theorem for the step response $H(s)u(s)$ in the Laplace domain.\n",
    ">$FVT = \\lim_{s\\to\\ 0 } sH(s)u(s) =$"
   ]
  },
  {
   "cell_type": "markdown",
   "id": "1768a816-cb30-4a9f-9203-9b89bd8e5410",
   "metadata": {},
   "source": [
    "### 5. Questions\n",
    "1. Explain the result of the Final Value Theorem from **Part 2** **Task 2** in terms of the physical circuit components.  \n",
    ">Replace this text with your answer, but leave the \">\" symbol.  \n",
    "2. Leave any feedback on the clarity of lab tasks, expectations, and deliverables.  \n",
    ">Replace this text with your answer, but leave the \">\" symbol."
   ]
  }
 ],
 "metadata": {
  "kernelspec": {
   "display_name": "Python [conda env:base] *",
   "language": "python",
   "name": "conda-base-py"
  },
  "language_info": {
   "codemirror_mode": {
    "name": "ipython",
    "version": 3
   },
   "file_extension": ".py",
   "mimetype": "text/x-python",
   "name": "python",
   "nbconvert_exporter": "python",
   "pygments_lexer": "ipython3",
   "version": "3.12.7"
  }
 },
 "nbformat": 4,
 "nbformat_minor": 5
}
