{
 "cells": [
  {
   "cell_type": "markdown",
   "id": "1da2b307-85e0-4b03-bc03-e21e8aeb6cd5",
   "metadata": {},
   "source": [
    "<h1 style=\"text-align: center;\">Block Diagrams and System Stability</h1>\n",
    "<p style=\"text-align: center;\">Lab 7</p>\n",
    "<p style=\"text-align: center;\">Spring 2025</p>"
   ]
  },
  {
   "cell_type": "markdown",
   "id": "6a4c3e8c-943d-4e0b-b078-c1daedde0670",
   "metadata": {},
   "source": [
    "### 1. Purpose \n",
    "Become familiar with Laplace-domain block diagrams and use the factored form of the transfer function to judge system stability. \n",
    "\n",
    "### 2. Deliverables Overview \n",
    "##### Part 1  \n",
    "[ ] Equations for the transfer functions in **Task 1**.  \n",
    "[ ] Printed output using **scipy.signal.tf2zpk()** for **Task 2**.  \n",
    "[ ] Equation of the open-loop transfer function for **Task 3**\n",
    "[ ] Plot showing the step response of the open-loop transfer function for **Task 4**.\n",
    "  \n",
    "##### Part 2\n",
    "[ ] Equation of the closed-loop transfer function for **Task 1**\n",
    "[ ] Printed output and numerical equations using **scipy.signal.tf2zpk()** for **Task 2**.  \n",
    "[ ] Plot showing the step response of the open-loop transfer function for **Task 3**. \n",
    "\n",
    "![Block diagram](BlockDiagram1.png)\n",
    "\n",
    "$$ G(s) = \\frac{s + 9}{(s^2 - 6s - 16)(s + 4)} $$  \n",
    "$$ A(s) = \\frac{s + 4}{s^2 + 4s +3} $$  \n",
    "$$ B(s) = s^2 + 26s + 168 $$\n",
    "\n",
    "### 3. Part 1\n",
    "##### 3.1 Purpose\n",
    "Analyze a block diagram and learn how to use Python functions to perform the same analysis.  \n",
    "##### 3.2 Tasks   \n",
    "1. Type $G(s)$, $A(s)$, and $B(s)$ in factored form, isolating the poles and zeros. Identify the poles and zeros of each function."
   ]
  },
  {
   "cell_type": "markdown",
   "id": "8920ea03-4960-484d-a2eb-7bcfaecc1356",
   "metadata": {},
   "source": [
    "Factored form of $G(s)$:  \n",
    ">$G(s) = \\dfrac{s + 9}{(s-8)(s+2)(s+4)}$  \n",
    "\n",
    "Factored form of $A(s)$:  \n",
    ">$A(s) = \\dfrac{s+4}{(s+1)(s+3)}$    \n",
    "\n",
    "Factored form of $B(s)$:  \n",
    ">$B(s) = (s+12)(s+14)$   \n",
    "\n",
    "Poles of $G(s)$:  \n",
    ">$s=8 \\quad s=-2 \\quad s=-4$\n",
    "\n",
    "Poles of $A(s)$:  \n",
    ">$s=-1 \\quad s=-3$\n",
    "\n",
    "Poles of $B(s)$:  \n",
    ">None\n",
    "\n",
    "Zeros of $G(s)$:  \n",
    ">$s=-9$\n",
    "\n",
    "Zeros of $A(s)$:  \n",
    ">$s=-4$ \n",
    "\n",
    "Zeros of $B(s)$:  \n",
    ">$s=-12 \\quad s=-14$,"
   ]
  },
  {
   "cell_type": "markdown",
   "id": "2de80da6-6920-4d79-8c50-f32eb515b932",
   "metadata": {},
   "source": [
    "###### 3.2.1 Example Code  \n",
    "The following example code uses **scipy.signal.convolve()** to expand a factored transfer function, described by $H(s) = \\dfrac{(8s + 1)(2s +3)}{(9s^2 + 2s)(s + 4)}$."
   ]
  },
  {
   "cell_type": "code",
   "execution_count": 11,
   "id": "b1d07604-290e-4249-a120-b1e408eeaeba",
   "metadata": {
    "tags": []
   },
   "outputs": [
    {
     "name": "stdout",
     "output_type": "stream",
     "text": [
      "Expanded Numerator: [16 26  3]\n",
      "Expanded Denominator: [ 9 38  8  0]\n"
     ]
    }
   ],
   "source": [
    "import scipy.signal as sig\n",
    "\n",
    "num = sig.convolve([8, 1], [2, 3])\n",
    "den = sig.convolve([9, 2, 0], [1, 4])\n",
    "\n",
    "print(f\"Expanded Numerator: {num}\\nExpanded Denominator: {den}\")"
   ]
  },
  {
   "cell_type": "markdown",
   "id": "3f0d6886-4d55-4a5c-8d13-a4a1eae26e64",
   "metadata": {},
   "source": [
    "Making the expanded transfer function $H(s) = \\dfrac{16s^2 + 26s + 3}{9s^3 + 38s^2 + 8s}$.  "
   ]
  },
  {
   "cell_type": "markdown",
   "id": "1fb5cf7e-ff52-4ffa-922c-db729f323448",
   "metadata": {},
   "source": [
    "2. Use the **scipy.signal.tf2zpk()** function to check your results from **Task 1** and print the output. *Note: since $B(s)$ has a denominator of 1, you may use **numpy.roots()** instead*."
   ]
  },
  {
   "cell_type": "code",
   "execution_count": 12,
   "id": "ed62157f-1de3-4ce8-96df-61d52f67918a",
   "metadata": {
    "tags": []
   },
   "outputs": [],
   "source": [
    "# Insert all necessary imports here\n",
    "import numpy as np\n",
    "import scipy.signal as sig"
   ]
  },
  {
   "cell_type": "code",
   "execution_count": 13,
   "id": "630db052-7e3a-465c-ad81-dc3d516be542",
   "metadata": {
    "tags": []
   },
   "outputs": [
    {
     "name": "stdout",
     "output_type": "stream",
     "text": [
      "Poles of G(s): [ 8. -4. -2.]\n",
      "Poles of A(s): [-3. -1.]\n",
      "Zeros of G(s): [-9.]\n",
      "Zeros of A(s): [-4.]\n",
      "Zeros of B(s): [-14. -12.]\n"
     ]
    }
   ],
   "source": [
    "# Insert code for Part 1 Task 2 here\n",
    "G_num = [1,9]\n",
    "G_den = [1,-2,-40,-64]\n",
    "\n",
    "A_num = [1,4]\n",
    "A_den = [1,4,3]\n",
    "\n",
    "B_num = [1, 26, 168]\n",
    "\n",
    "G_zeros, G_poles, G_gain = sig.tf2zpk(G_num, G_den)\n",
    "A_zeros, A_poles, A_gain = sig.tf2zpk(A_num, A_den)\n",
    "B_zeros = np.roots(B_num)\n",
    "\n",
    "print(\"Poles of G(s):\", G_poles)\n",
    "print(\"Poles of A(s):\", A_poles)\n",
    "\n",
    "print(\"Zeros of G(s):\", G_zeros)\n",
    "print(\"Zeros of A(s):\", A_zeros)\n",
    "print(\"Zeros of B(s):\", B_zeros)\n"
   ]
  },
  {
   "cell_type": "markdown",
   "id": "7b165a4b-bf1f-4c5e-96a2-52f3bd431e3b",
   "metadata": {},
   "source": [
    "3. Type and properly format the open-loop transfer function where $x(t)$ is the input and $y(t)$ is the output. Keep your answer in factored form."
   ]
  },
  {
   "cell_type": "markdown",
   "id": "fbcc4cae-5649-4442-8281-fbe1d392d4f9",
   "metadata": {},
   "source": [
    "Insert the open-loop transfer function here:  \n",
    "$$ H(s) = A(s)G(s)B(s) = \\dfrac{(s+9)(s+12)(s+14)}{(s-8)(s+2)(s+1)(s+3)}$$"
   ]
  },
  {
   "cell_type": "markdown",
   "id": "3d02cd0b-90fb-4117-96de-6d95d9047907",
   "metadata": {},
   "source": [
    "4. Plot the step response of the open-loop transfer function. Use **scipy.signal.convolve()** to expand the numerator and denominator of the open-loop transfer function. "
   ]
  },
  {
   "cell_type": "code",
   "execution_count": 14,
   "id": "f6c802a0-3c60-4357-b430-87271061e23c",
   "metadata": {
    "tags": []
   },
   "outputs": [
    {
     "name": "stdout",
     "output_type": "stream",
     "text": [
      "Expanded Numerator: [   1   35  402 1512]\n",
      "Expanded Denominator: [  1  -2 -37 -82 -48]\n"
     ]
    },
    {
     "data": {
      "image/png": "[encoded data removed]",
      "text/plain": [
       "<Figure size 800x400 with 1 Axes>"
      ]
     },
     "metadata": {},
     "output_type": "display_data"
    }
   ],
   "source": [
    "# Insert code plotting the step response of the open-loop transfer function here\n",
    "import matplotlib.pyplot as plt\n",
    "\n",
    "num_open_1 = sig.convolve([1,9], [1,12])\n",
    "num_open = sig.convolve(num_open_1,[1,14])\n",
    "\n",
    "den_open_1 = sig.convolve([1,-8], [1,2])\n",
    "den_open_2 = sig.convolve([1,1], [1,3])\n",
    "den_open = sig.convolve(den_open_1,den_open_2)\n",
    "print(f\"Expanded Numerator: {num_open}\\nExpanded Denominator: {den_open}\")\n",
    "\n",
    "step = 1e-2\n",
    "t = np.arange(0, 10 + step, step)\n",
    "\n",
    "tout, yout = sig.step((num_open, den_open), T = t)\n",
    "\n",
    "plt.figure(figsize=(8,4))\n",
    "plt.plot(tout, yout)\n",
    "plt.grid()\n",
    "plt.ylabel(\"y(t)\")\n",
    "plt.xlabel(\"t [s]\")\n",
    "plt.title(\"Step Response of Open Loop\")\n",
    "plt.tight_layout()\n",
    "plt.show()"
   ]
  },
  {
   "cell_type": "markdown",
   "id": "2073d86f-d1af-4198-9aeb-728468adb7ab",
   "metadata": {},
   "source": [
    "### 4. Part 2\n",
    "##### 4.1 Purpose\n",
    "Become more familiar with using Python for analyzing block diagrams and stability of closed-loop systems.\n",
    "##### 4.2 Tasks   \n",
    "1. Type the closed-loop transfer function for the given block diagram symbolically in terms of each blocks numerator and denominator (i.e., numG, denG, ...)."
   ]
  },
  {
   "cell_type": "markdown",
   "id": "72ed4640-a06e-4aa3-ae64-56f60df0cc26",
   "metadata": {},
   "source": [
    "Insert the closed-loop transfer function here:  \n",
    "$$ H(s) = \\frac{A(s)G(s)}{1 +B(s)G(s)} = \\frac{numA \\ numG}{denA \\ denG + denA \\ numB \\ numG}$$"
   ]
  },
  {
   "cell_type": "markdown",
   "id": "3fecb635-adfc-45ca-874a-3cda476ab6df",
   "metadata": {},
   "source": [
    "2. Using **scipy.signal.convolve()** and **scipy.signal.tf2zpk()** to perform all the arithmetic, find numerical values for the total numerator and denominator, find poles and zeros, then type the resulting numeric transfer function in both expanded and factored form."
   ]
  },
  {
   "cell_type": "code",
   "execution_count": 15,
   "id": "a37d42f5-3b2f-40e4-8430-c247fa7afad6",
   "metadata": {
    "tags": []
   },
   "outputs": [
    {
     "name": "stdout",
     "output_type": "stream",
     "text": [
      "Expanded Numerator: [ 1 13 36]\n",
      "Expanded Denominator: [   2   41  500 2995 6878 4344]\n",
      "Poles of closed loop H(s):\n",
      "-5.1624+9.5180j\n",
      "-5.1624-9.5180j\n",
      "-6.1753+0.0000j\n",
      "-3.0000+0.0000j\n",
      "-1.0000+0.0000j\n",
      "Zeros of closed loop H(s):\n",
      "-9.0000\n",
      "-4.0000\n"
     ]
    }
   ],
   "source": [
    "# Insert code for Part 2 Task 2 here\n",
    "\n",
    "G_num = [1,9]\n",
    "G_den = [1,-2,-40,-64]\n",
    "\n",
    "A_num = [1,4]\n",
    "A_den = [1,4,3]\n",
    "\n",
    "B_num = [1, 26, 168]\n",
    "#total numerator\n",
    "num_close = sig.convolve(A_num, G_num)\n",
    "#denominator 1\n",
    "den_close_dAdG = sig.convolve(A_den, G_den)\n",
    "#denominator 2\n",
    "den_close_dAnB = sig.convolve(A_den, B_num)\n",
    "den_close_dAnBnG = sig.convolve(den_close_dAnB, G_num)\n",
    "#total denominator\n",
    "den_close = den_close_dAdG + den_close_dAnBnG\n",
    "\n",
    "closed_zeros, closed_poles, closed_gain = sig.tf2zpk(num_close, den_close)\n",
    "\n",
    "print(f\"Expanded Numerator: {num_close}\\nExpanded Denominator: {den_close}\")\n",
    "\n",
    "print(\"Poles of closed loop H(s):\")\n",
    "for i in range(len(closed_poles)):\n",
    "    print(f\"{closed_poles[i]:.4f}\")\n",
    "\n",
    "print(\"Zeros of closed loop H(s):\")\n",
    "for i in range(len(closed_zeros)):\n",
    "    print(f\"{closed_zeros[i]:.4f}\")"
   ]
  },
  {
   "cell_type": "markdown",
   "id": "a7fbad9e-0cf5-4668-a494-0c5f16d3bece",
   "metadata": {},
   "source": [
    "Insert the expanded numeric closed-loop transfer function here:  \n",
    "$$ H(s) = \\frac{s^2 +13s +36}{ 2s^5 + 41s^4 + 500s^3 + 2995s^2 + 6878s + 4344}$$"
   ]
  },
  {
   "cell_type": "markdown",
   "id": "2c9e4d7e-517d-4592-955c-8c432654a443",
   "metadata": {},
   "source": [
    "Insert the factored numeric closed-loop transfer function here:  \n",
    "$$ H(s) = \\frac{(s+9)(s+4)}{(s+5.1624-j9.5180)(s+j5.1624+9.5180)(s+6.1753)(s+1)}$$"
   ]
  },
  {
   "cell_type": "markdown",
   "id": "eaea8c55-507b-497e-a19f-3b622d7a85ad",
   "metadata": {},
   "source": [
    "3. Plot the step response of the closed-loop transfer function using **scipy.signal.step()**."
   ]
  },
  {
   "cell_type": "code",
   "execution_count": 16,
   "id": "737cdb59-e367-4f82-884d-2daf21f2d2e3",
   "metadata": {
    "tags": []
   },
   "outputs": [
    {
     "data": {
      "image/png": "[encoded data removed]",
      "text/plain": [
       "<Figure size 800x400 with 1 Axes>"
      ]
     },
     "metadata": {},
     "output_type": "display_data"
    }
   ],
   "source": [
    "# Insert code for Part 2 Task 3 here\n",
    "\n",
    "step = 1e-2\n",
    "t = np.arange(0, 10 + step, step)\n",
    "\n",
    "tout, yout = sig.step((num_close, den_close), T = t)\n",
    "\n",
    "plt.figure(figsize=(8,4))\n",
    "plt.plot(tout, yout)\n",
    "plt.grid()\n",
    "plt.ylabel(\"y(t)\")\n",
    "plt.xlabel(\"t [s]\")\n",
    "plt.title(\"Step Response of Closed Loop\")\n",
    "plt.tight_layout()\n",
    "plt.show()"
   ]
  },
  {
   "cell_type": "markdown",
   "id": "44dbcc80-5641-425f-8bfb-40629f26fa61",
   "metadata": {},
   "source": [
    "### 5. Questions\n",
    "1. Considering the expression found in **Part 1, Task 3**, is the open-loop response stable? Explain why or why not.    \n",
    "> It is not stable. The pole $s=8$ is in the right side of the s-plane, meaning it will exponentially grow, not decay to a stable state.  \n",
    "2. Does the plot from **Part 1, Task 4** support your answer to **Question 1**? Explain how or how it does not.  \n",
    "> Yes. The plot shows that the open-loop system experiences exponential growth that at no point decays to a stable state.\n",
    "3. In **Part 1, Task 4**, why does convolving the factored terms using **scipy.signal.convolve()** result in the expanded form of the numerator and denominator? Would this work with your user-defined convolution function from **Lab 3**? Why or why not?  \n",
    ">The scipy convolution function works for polynomial expansion because convolution, mathematically, is the sum of all possible products of the two inputs. If we interpret $3 * 4$ as a convolution and compare it to $(3)(4)$, the results are both 12, as two scalar values have only one possible product. The same applies for polynomial multiplication, as multiplying $(s^2+as+c)(s^2+bs+b)$ requires that each term of one polynomial be multiplied by each term of the other polynomial and summed. Thus, it is the sum of all possible products the polynomials have.\n",
    ">\n",
    ">The convolution function from lab 3 would work, as the \"sliding two arrays over each other\" approach is practically the same as traditional, term-by-term polynomial multiplication. Applying the slide method to the two polynomials, $(s+3)$ and $(s+4)$, we can see the correct result is produced by summing the products of overlapping terms:\n",
    "> \n",
    ">$\\qquad (s+3) \\quad (s+3) \\quad (s+3) $\n",
    "> \n",
    ">$ \\ (s+4) \\qquad  \\ \\ \\ (s+4) \\qquad \\ \\ \\ (s+4)  $\n",
    ">\n",
    ">$\\qquad 4s \\qquad  \\quad s^2 + 12    \\qquad  \\ \\ \\ 3s$\n",
    ">\n",
    ">$(s+3)(s+4) = s^2 +7s +12$\n",
    "4. Using the closed-loop transfer function found in **Part 2, Task 1**, is the closed-loop response stable? Explain why or why not.\n",
    ">Yes. All poles are in the left side of the s-plane, meaning they will all lead to exponential decay, resulting in the system eventually reaching a stable state.\n",
    "5. Does the result from **Part 2, Task 3** support your answer to **Question 4**? Explain how or how it does not.  \n",
    ">Yes. The plot shows the function's rate of growth decreases and the output eventually reaches a constant value, meaning the system has reached a stable state. \n",
    "6. What is the difference between **scipy.signal.residue()** used in **Lab 6** and **scipy.signal.tf2zpk()** used in this lab?  \n",
    ">The residue function produces values that form the partial fraction expansion, allowing the transfer function to be easily converted to the time domain. The tf2zpk function factors the transfer function, making analyzing stability easier as the poles and roots are apparent. While both produce poles, residues $\\neq$ roots. Roots tell you what frequency values are not in the functon's output, where the residues are residual coeffecients that alter/define the behavior at that pole.\n",
    "7. Is it possible for an open-loop system to be stable? What about for a closed-loop system to be unstable? Explain how or how it is not for each.  \n",
    ">Yes, both open-loop and closed-loop systems can be stable or unstable. The only difference between closed-loop and open-loop systems is whether there is feedback. An open-loop system is \"open\" in that the system does not feed back into itself, where as a closed-loop does. An open-loop system can take an input and transform it into an output without a component of the system preventing decay to stability. Similarly, a closed-loop system can have positive feedback that introduces infinite growth, rather than counteracting growth with decay.  \n",
    "8. Leave any feedback on the clarity of lab tasks, expectations, and deliverables.  \n",
    ">Replace this text with your answer, but leave the \">\" symbol."
   ]
  },
  {
   "cell_type": "code",
   "execution_count": null,
   "id": "9f08d8e6-fa82-483b-911e-6c1be9184606",
   "metadata": {},
   "outputs": [],
   "source": []
  }
 ],
 "metadata": {
  "kernelspec": {
   "display_name": "Python [conda env:base] *",
   "language": "python",
   "name": "conda-base-py"
  },
  "language_info": {
   "codemirror_mode": {
    "name": "ipython",
    "version": 3
   },
   "file_extension": ".py",
   "mimetype": "text/x-python",
   "name": "python",
   "nbconvert_exporter": "python",
   "pygments_lexer": "ipython3",
   "version": "3.12.7"
  }
 },
 "nbformat": 4,
 "nbformat_minor": 5
}
