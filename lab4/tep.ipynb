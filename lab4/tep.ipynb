{
 "cells": [
  {
   "cell_type": "markdown",
   "id": "b285a903-2ae9-4e29-bad0-7e26445c14df",
   "metadata": {},
   "source": [
    "<h1 style=\"text-align: center;\">System Step Response Using Convolution</h1>\n",
    "<p style=\"text-align: center;\">Lab 4</p>\n",
    "<p style=\"text-align: center;\">Spring 2025</p>"
   ]
  },
  {
   "cell_type": "markdown",
   "id": "e80a3b0f-5fd2-408a-acfa-a8b433f57fea",
   "metadata": {},
   "source": [
    "### 1. Purpose \n",
    "Become familiar with using convolution to compute a system's step response.  \n",
    "\n",
    "### 2. Deliverables Overview \n",
    "##### Part 1  \n",
    "[ ] Plots for **Task 2**.  \n",
    "  \n",
    "##### Part 2\n",
    "[ ] Plots for **Task 1**.  \n",
    "[ ] Hand calculated convolution integrals from **Task 2**.  \n",
    "[ ] Plots for **Task 2**.  \n",
    "\n",
    "### 3. Part 1\n",
    "##### 3.1 Purpose\n",
    "Use the step function you coded previously to operate on given transfer functions.  \n",
    "##### 3.2 Tasks\n",
    "1. Create the following signals with user-defined functions.  \n",
    "$$h_1(t) = e^{2t}u(1 - t)$$  \n",
    "$$h_2(t) = u(t - 2) - u(t - 6)$$  \n",
    "$$h_3(t) = \\cos{(\\omega_0 t)}u(t)$$ for, $f_0 = 0.25$ Hz.  "
   ]
  },
  {
   "cell_type": "code",
   "execution_count": 1,
   "id": "633d6e29-ce0b-4667-9f1c-bd83b5ef1350",
   "metadata": {
    "tags": []
   },
   "outputs": [],
   "source": [
    "#Insert all necessary imports here"
   ]
  },
  {
   "cell_type": "code",
   "execution_count": 2,
   "id": "3557fb58-079f-4b47-aad4-dd891e941f0e",
   "metadata": {
    "tags": []
   },
   "outputs": [],
   "source": [
    "#Insert your step and convolution functions here"
   ]
  },
  {
   "cell_type": "code",
   "execution_count": 3,
   "id": "55f5f09b-c42c-48d3-aee8-cc3fdb23444e",
   "metadata": {
    "tags": []
   },
   "outputs": [],
   "source": [
    "#Insert the code for the transfer functions here"
   ]
  },
  {
   "cell_type": "markdown",
   "id": "76a9aacf-8963-4fcc-9e4f-36bbed671ce9",
   "metadata": {},
   "source": [
    "2. Plot the three functions in a single figure (separate subplots) from $-10 \\le t \\le 10$ with time steps small enough to achieve appropriate resolution. "
   ]
  },
  {
   "cell_type": "code",
   "execution_count": 4,
   "id": "1dfc24c0-f752-4412-a3c4-1c05b991fea2",
   "metadata": {
    "tags": []
   },
   "outputs": [],
   "source": [
    "#Insert code calling and plotting the transfer functions in one figure with three subplots here"
   ]
  },
  {
   "cell_type": "markdown",
   "id": "c8029122-5cfa-4409-97ec-ad7fa78dc571",
   "metadata": {},
   "source": [
    "### 4. Part 2\n",
    "##### 4.1 Purpose\n",
    "Find and plot the step response of the three transfer functions defined in **Part 1** using Python and hand calculations.\n",
    "##### 4.2 Tasks\n",
    "Perform the following tasks for each of the three transfer functions defined in **Part 1**. Plot each response from $-10 \\le t \\le 10$ with an appropriate step size.  \n",
    "1. Plot the step response using your convolution and step functions created earlier."
   ]
  },
  {
   "cell_type": "code",
   "execution_count": 5,
   "id": "c2ee1d74-2384-4515-8500-5d6d73d1f22e",
   "metadata": {
    "tags": []
   },
   "outputs": [],
   "source": [
    "#Insert code performing the step response for all three transfer functions here"
   ]
  },
  {
   "cell_type": "code",
   "execution_count": 6,
   "id": "cdb54c41-8a22-42bd-be05-4ab0b894eb01",
   "metadata": {
    "tags": []
   },
   "outputs": [],
   "source": [
    "#Insert code plotting all three step responses in one figure with three subplots here"
   ]
  },
  {
   "cell_type": "markdown",
   "id": "4dee0f2c-1386-4b83-a130-4392d07ae629",
   "metadata": {},
   "source": [
    "2. By hand, calculate the step response of each transfer function by solving the convolution integral. Plot the results and ensure they match the plots from **Task 1**. *Note: Recall for this class all math must be done symbolically not numerically.*"
   ]
  },
  {
   "cell_type": "markdown",
   "id": "f3f4b433-a23f-4126-a00a-7423adfddfb7",
   "metadata": {},
   "source": [
    ">Insert your hand calculated integrals here. Show all necessary work and write them using LaTeX math mode.  \n",
    ">$y_1 = $  \n",
    ">$y_2 = $  \n",
    ">$y_3 = $  "
   ]
  },
  {
   "cell_type": "code",
   "execution_count": 7,
   "id": "d490aab3-89a3-4228-abd8-4524749942d0",
   "metadata": {
    "tags": []
   },
   "outputs": [],
   "source": [
    "#Insert code plotting your hand calculated step responses in one figure with three subplots here. \n",
    "#Note: These won't look exactly like the plots from earlier because a computer has no concept of infinity"
   ]
  },
  {
   "cell_type": "markdown",
   "id": "1cfdb499-1258-4b30-a63f-460d7b45c072",
   "metadata": {},
   "source": [
    "### 5. Questions\n",
    "1. Leave any feedback on the clarity of lab tasks, expectations, and deliverables.  \n",
    ">Replace this text with your answer, but leave the \">\" symbol."
   ]
  }
 ],
 "metadata": {
  "kernelspec": {
   "display_name": "Python [conda env:base] *",
   "language": "python",
   "name": "conda-base-py"
  },
  "language_info": {
   "codemirror_mode": {
    "name": "ipython",
    "version": 3
   },
   "file_extension": ".py",
   "mimetype": "text/x-python",
   "name": "python",
   "nbconvert_exporter": "python",
   "pygments_lexer": "ipython3",
   "version": "3.12.7"
  }
 },
 "nbformat": 4,
 "nbformat_minor": 5
}
